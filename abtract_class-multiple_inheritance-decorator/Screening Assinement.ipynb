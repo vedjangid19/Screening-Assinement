{
 "cells": [
  {
   "cell_type": "markdown",
   "metadata": {},
   "source": [
    "## Question 1 gihub link:\n",
    "   https://github.com/vedjangid19/Screening-Assinement/blob/main/file_read_replace/main.py "
   ]
  },
  {
   "cell_type": "markdown",
   "metadata": {},
   "source": [
    "###  2. Demonstrate use of abstract class, multiple inheritance and decorator in python using examples."
   ]
  },
  {
   "cell_type": "markdown",
   "metadata": {},
   "source": [
    "#### abstract class\n",
    "a class which has one or more abstract method is called abstract class.\n",
    "base class has atleast one abstract method and this method are override by all child class which are inherite base class."
   ]
  },
  {
   "cell_type": "code",
   "execution_count": 13,
   "metadata": {},
   "outputs": [
    {
     "name": "stdout",
     "output_type": "stream",
     "text": [
      "this rectangle printarea function\n"
     ]
    }
   ],
   "source": [
    "from abc import ABC, abstractmethod\n",
    "class shape(ABC):\n",
    "    @abstractmethod\n",
    "    def printarea(self):\n",
    "        return 0\n",
    "    \n",
    "class rectangle(shape):\n",
    "    def printarea(self):\n",
    "        return \"this rectangle printarea function\"\n",
    "\n",
    "rec = rectangle()\n",
    "print(rec.printarea())"
   ]
  },
  {
   "cell_type": "markdown",
   "metadata": {},
   "source": [
    "#### multiple inheritance\n",
    "when a class derived more than one class is called multiple inheritance.child class has all properties of both parents class."
   ]
  },
  {
   "cell_type": "code",
   "execution_count": 9,
   "metadata": {},
   "outputs": [
    {
     "name": "stdout",
     "output_type": "stream",
     "text": [
      "1\n",
      "1\n",
      "None\n"
     ]
    }
   ],
   "source": [
    "class demo1:\n",
    "    def __init__(self):\n",
    "        self.var1 = 1\n",
    "    \n",
    "    def func1(self):\n",
    "        print(self.var1)\n",
    "\n",
    "class demo2:\n",
    "    def __init__(self):\n",
    "        self.var2 =2\n",
    "        \n",
    "    def func2(self):\n",
    "        print(self.var2)\n",
    "        \n",
    "class demo3(demo1,demo2):\n",
    "    pass\n",
    "\n",
    "d3 = demo3()\n",
    "print(d3.var1)\n",
    "print(d3.func1())"
   ]
  },
  {
   "cell_type": "markdown",
   "metadata": {},
   "source": [
    "#### decorator\n",
    "decorator is a function that take function as argument and modify the functionality of function.\n",
    "eg:"
   ]
  },
  {
   "cell_type": "code",
   "execution_count": 5,
   "metadata": {},
   "outputs": [
    {
     "name": "stdout",
     "output_type": "stream",
     "text": [
      "start func1.\n",
      "3\n",
      "func1 end\n"
     ]
    }
   ],
   "source": [
    "def dec_func(func):\n",
    "    def func1(a,b):\n",
    "        print(\"start func1.\")\n",
    "        func(a,b)\n",
    "        print(\"func1 end\")\n",
    "    return func1\n",
    "    \n",
    "@dec_func\n",
    "def add_two_number(a,b):\n",
    "    print(a+b)\n",
    "\n",
    "add_two_number(1,2)"
   ]
  },
  {
   "cell_type": "code",
   "execution_count": null,
   "metadata": {},
   "outputs": [],
   "source": []
  }
 ],
 "metadata": {
  "kernelspec": {
   "display_name": "Python 3",
   "language": "python",
   "name": "python3"
  },
  "language_info": {
   "codemirror_mode": {
    "name": "ipython",
    "version": 3
   },
   "file_extension": ".py",
   "mimetype": "text/x-python",
   "name": "python",
   "nbconvert_exporter": "python",
   "pygments_lexer": "ipython3",
   "version": "3.7.9"
  }
 },
 "nbformat": 4,
 "nbformat_minor": 4
}
